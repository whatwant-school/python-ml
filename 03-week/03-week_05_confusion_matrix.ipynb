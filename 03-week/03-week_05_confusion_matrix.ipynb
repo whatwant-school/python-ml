{
 "cells": [
  {
   "cell_type": "code",
   "execution_count": 1,
   "id": "4d3ad8fb-becc-46df-86d6-9c2815336e80",
   "metadata": {},
   "outputs": [
    {
     "data": {
      "text/plain": [
       "0.9"
      ]
     },
     "execution_count": 1,
     "metadata": {},
     "output_type": "execute_result"
    }
   ],
   "source": [
    "from sklearn.datasets import load_digits\n",
    "from sklearn.model_selection import train_test_split\n",
    "from sklearn.base import BaseEstimator\n",
    "from sklearn.metrics import accuracy_score\n",
    "import numpy as np\n",
    "\n",
    "digits = load_digits()\n",
    "\n",
    "y = (digits.target == 7).astype(int)\n",
    "X_train, X_test, y_train, y_test = train_test_split(digits.data, y, test_size=0.2, random_state=11)\n",
    "\n",
    "class MyFakeClassifier(BaseEstimator):\n",
    "    def fit(self,X,y):\n",
    "        pass\n",
    "    \n",
    "    def predict(self,X):\n",
    "        return np.zeros( (len(X), 1) , dtype=bool)\n",
    "\n",
    "fake_clf = MyFakeClassifier()\n",
    "fake_clf.fit(X_train , y_train)\n",
    "\n",
    "fake_pred = fake_clf.predict(X_test)\n",
    "accuracy_score(y_test , fake_pred)"
   ]
  },
  {
   "cell_type": "code",
   "execution_count": 2,
   "id": "58efffc4-8655-4481-bd11-57e633ff2df9",
   "metadata": {},
   "outputs": [
    {
     "data": {
      "text/plain": [
       "array([[324,   0],\n",
       "       [ 36,   0]])"
      ]
     },
     "execution_count": 2,
     "metadata": {},
     "output_type": "execute_result"
    }
   ],
   "source": [
    "from sklearn.metrics import confusion_matrix\n",
    "\n",
    "confusion_matrix(y_test , fake_pred)"
   ]
  }
 ],
 "metadata": {
  "kernelspec": {
   "display_name": "Python 3 (ipykernel)",
   "language": "python",
   "name": "python3"
  },
  "language_info": {
   "codemirror_mode": {
    "name": "ipython",
    "version": 3
   },
   "file_extension": ".py",
   "mimetype": "text/x-python",
   "name": "python",
   "nbconvert_exporter": "python",
   "pygments_lexer": "ipython3",
   "version": "3.9.15"
  }
 },
 "nbformat": 4,
 "nbformat_minor": 5
}
